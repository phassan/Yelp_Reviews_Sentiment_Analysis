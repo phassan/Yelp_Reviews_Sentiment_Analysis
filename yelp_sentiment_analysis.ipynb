{
 "cells": [
  {
   "cell_type": "code",
   "execution_count": 1,
   "metadata": {},
   "outputs": [],
   "source": [
    "import numpy as np\n",
    "import pandas as pd \n",
    "import matplotlib.pyplot as plt\n",
    "import seaborn as sns\n",
    "\n",
    "import re\n",
    "\n",
    "import nltk\n",
    "from nltk import pos_tag\n",
    "from nltk.stem.wordnet import WordNetLemmatizer \n",
    "from nltk.tokenize import word_tokenize\n",
    "\n",
    "import ktrain\n",
    "from ktrain import text\n",
    "from sklearn.utils import class_weight"
   ]
  },
  {
   "cell_type": "markdown",
   "metadata": {},
   "source": [
    "## Read Data"
   ]
  },
  {
   "cell_type": "code",
   "execution_count": 2,
   "metadata": {},
   "outputs": [],
   "source": [
    "df = pd.read_json('yelp_academic_dataset_review.json', lines=True)\n",
    "review_df = df.sample(n=5000)"
   ]
  },
  {
   "cell_type": "markdown",
   "metadata": {},
   "source": [
    "## Exploratory Data Analysis"
   ]
  },
  {
   "cell_type": "code",
   "execution_count": 3,
   "metadata": {},
   "outputs": [
    {
     "data": {
      "text/plain": [
       "review_id      0\n",
       "user_id        0\n",
       "business_id    0\n",
       "stars          0\n",
       "useful         0\n",
       "funny          0\n",
       "cool           0\n",
       "text           0\n",
       "date           0\n",
       "dtype: int64"
      ]
     },
     "execution_count": 3,
     "metadata": {},
     "output_type": "execute_result"
    }
   ],
   "source": [
    "# Checking missing values\n",
    "review_df.isnull().sum()"
   ]
  },
  {
   "cell_type": "code",
   "execution_count": 4,
   "metadata": {
    "scrolled": true
   },
   "outputs": [
    {
     "data": {
      "image/png": "[encoded data removed]",
      "text/plain": [
       "<Figure size 432x288 with 1 Axes>"
      ]
     },
     "metadata": {
      "needs_background": "light"
     },
     "output_type": "display_data"
    }
   ],
   "source": [
    "# Distribution of Stars(Reviews) \n",
    "plt.figure(figsize=(6,4))\n",
    "sns.countplot(review_df.stars)\n",
    "plt.title('Distribution of Stars')\n",
    "plt.xlabel('Stars')\n",
    "plt.ylabel('Number of Reviews')\n",
    "plt.show()"
   ]
  },
  {
   "cell_type": "markdown",
   "metadata": {},
   "source": [
    "## Text Processing"
   ]
  },
  {
   "cell_type": "code",
   "execution_count": 5,
   "metadata": {},
   "outputs": [],
   "source": [
    "contractions_dict = {\"ain't\": \"is not\",\n",
    "                    \"aren't\": \"are not\",\n",
    "                    \"can't\": \"cannot\", \n",
    "                    \"can't've\": \"cannot have\", \n",
    "                    \"'cause\": \"because\", \n",
    "                    \"could've\": \"could have\", \n",
    "                    \"couldn't\": \"could not\", \n",
    "                    \"couldn't've\": \"could not have\",\n",
    "                    \"didn't\": \"did not\", \n",
    "                    \"doesn't\": \"does not\", \n",
    "                    \"don't\": \"do not\", \n",
    "                    \"hadn't\": \"had not\",  \n",
    "                    \"hadn't've\": \"had not have\", \n",
    "                    \"hasn't\": \"has not\", \n",
    "                    \"haven't\": \"have not\", \n",
    "                    \"he'd\": \"he would\", \n",
    "                    \"he'd've\": \"he would have\", \n",
    "                    \"he'll\": \"he will\", \n",
    "                    \"he'll've\": \"he will have\", \n",
    "                    \"he's\": \"he is\", \n",
    "                    \"how'd\": \"how did\", \n",
    "                    \"how'd'y\": \"how do you\", \n",
    "                    \"how'll\": \"how will\", \n",
    "                    \"how's\": \"how is\", \n",
    "                    \"I'd\": \"I would\", \n",
    "                    \"I'd've\": \"I would have\", \n",
    "                    \"I'll\": \"I will\", \n",
    "                    \"I'll've\": \"I will have\",\n",
    "                    \"I'm\": \"I am\", \n",
    "                    \"I've\": \"I have\", \n",
    "                    \"i'd\": \"i would\", \n",
    "                    \"i'd've\": \"i would have\", \n",
    "                    \"i'll\": \"i will\", \n",
    "                    \"i'll've\": \"i will have\",\n",
    "                    \"i'm\": \"i am\", \n",
    "                    \"i've\": \"i have\", \n",
    "                    \"isn't\": \"is not\", \n",
    "                    \"it'd\": \"it would\", \n",
    "                    \"it'd've\": \"it would have\", \n",
    "                    \"it'll\": \"it will\", \n",
    "                    \"it'll've\": \"it will have\",\n",
    "                    \"it's\": \"it is\", \n",
    "                    \"let's\": \"let us\", \n",
    "                    \"ma'am\": \"madam\", \n",
    "                    \"mayn't\": \"may not\", \n",
    "                    \"might've\": \"might have\",\n",
    "                    \"mightn't\": \"might not\",\n",
    "                    \"mightn't've\": \"might not have\", \n",
    "                    \"must've\": \"must have\", \n",
    "                    \"mustn't\": \"must not\", \n",
    "                    \"mustn't've\": \"must not have\", \n",
    "                    \"needn't\": \"need not\", \n",
    "                    \"needn't've\": \"need not have\",\n",
    "                    \"o'clock\": \"of the clock\", \n",
    "                    \"oughtn't\": \"ought not\", \n",
    "                    \"oughtn't've\": \"ought not have\", \n",
    "                    \"shan't\": \"shall not\",\n",
    "                    \"sha'n't\": \"shall not\", \n",
    "                    \"shan't've\": \"shall not have\", \n",
    "                    \"she'd\": \"she would\", \n",
    "                    \"she'd've\": \"she would have\", \n",
    "                    \"she'll\": \"she will\", \n",
    "                    \"she'll've\": \"she will have\", \n",
    "                    \"she's\": \"she is\", \n",
    "                    \"should've\": \"should have\", \n",
    "                    \"shouldn't\": \"should not\", \n",
    "                    \"shouldn't've\": \"should not have\", \n",
    "                    \"so've\": \"so have\",\n",
    "                    \"so's\": \"so as\", \n",
    "                    \"this's\": \"this is\",\n",
    "                    \"that'd\": \"that would\", \n",
    "                    \"that'd've\": \"that would have\",\n",
    "                    \"that's\": \"that is\", \n",
    "                    \"there'd\": \"there would\", \n",
    "                    \"there'd've\": \"there would have\",\n",
    "                    \"there's\": \"there is\", \n",
    "                    \"here's\": \"here is\",\n",
    "                    \"they'd\": \"they would\", \n",
    "                    \"they'd've\": \"they would have\", \n",
    "                    \"they'll\": \"they will\", \n",
    "                    \"they'll've\": \"they will have\", \n",
    "                    \"they're\": \"they are\", \n",
    "                    \"they've\": \"they have\",\n",
    "                    \"to've\": \"to have\", \n",
    "                    \"wasn't\": \"was not\", \n",
    "                    \"we'd\": \"we would\", \n",
    "                    \"we'd've\": \"we would have\", \n",
    "                    \"we'll\": \"we will\", \n",
    "                    \"we'll've\": \"we will have\", \n",
    "                    \"we're\": \"we are\", \n",
    "                    \"we've\": \"we have\", \n",
    "                    \"weren't\": \"were not\",\n",
    "                    \"what'll\": \"what will\", \n",
    "                    \"what'll've\": \"what will have\", \n",
    "                    \"what're\": \"what are\", \n",
    "                    \"what's\": \"what is\", \n",
    "                    \"what've\": \"what have\", \n",
    "                    \"when's\": \"when is\", \n",
    "                    \"when've\": \"when have\", \n",
    "                    \"where'd\": \"where did\", \n",
    "                    \"where's\": \"where is\", \n",
    "                    \"where've\": \"where have\", \n",
    "                    \"who'll\": \"who will\", \n",
    "                    \"who'll've\": \"who will have\", \n",
    "                    \"who's\": \"who is\", \n",
    "                    \"who've\": \"who have\", \n",
    "                    \"why's\": \"why is\", \n",
    "                    \"why've\": \"why have\", \n",
    "                    \"will've\": \"will have\", \n",
    "                    \"won't\": \"will not\",\n",
    "                    \"won't've\": \"will not have\", \n",
    "                    \"would've\": \"would have\", \n",
    "                    \"wouldn't\": \"would not\", \n",
    "                    \"wouldn't've\": \"would not have\", \n",
    "                    \"y'all\": \"you all\", \n",
    "                    \"y'all'd\": \"you all would\",\n",
    "                    \"y'all'd've\": \"you all would have\",\n",
    "                    \"y'all're\": \"you all are\",\n",
    "                    \"y'all've\": \"you all have\",\n",
    "                    \"you'd\": \"you would\", \n",
    "                    \"you'd've\": \"you would have\", \n",
    "                    \"you'll\": \"you will\", \n",
    "                    \"you'll've\": \"you will have\", \n",
    "                    \"you're\": \"you are\", \n",
    "                    \"you've\": \"you have\" }"
   ]
  },
  {
   "cell_type": "code",
   "execution_count": 6,
   "metadata": {},
   "outputs": [],
   "source": [
    "def expand_contractions(s, contractions_dict=contractions_dict):\n",
    "    for key in contractions_dict:\n",
    "        value = contractions_dict[key]\n",
    "        s = s.replace(key, value)   \n",
    "    return s"
   ]
  },
  {
   "cell_type": "code",
   "execution_count": 7,
   "metadata": {},
   "outputs": [],
   "source": [
    "def text_cleaner(s):\n",
    "        s = str(s)\n",
    "        s = s.lower()\n",
    "        s = expand_contractions(s)\n",
    "        s = re.sub(\"\\n\",\" \",s)\n",
    "        s = re.sub(\"\\[.*\\]\",\" \",s)\n",
    "        s = re.sub(\"\\d{1,3}\\.\\d{1,3}\\.\\d{1,3}\\.\\d{1,3}\",\" \",s)\n",
    "        s = re.sub(r\"\\?\",\" \",s)\n",
    "        s = re.sub(r'[^\\w\\s]','',s)\n",
    "        s = re.sub(\"\\d+\",\"\",s)\n",
    "        s = re.sub(r'(\\w)\\1{2,}',r'\\1\\1',s) \n",
    "        s = re.sub(r'(\\W)\\1+',r'\\1',s) \n",
    "        s = re.sub(r\"http\\S+\",\"\",s)\n",
    "        s = re.sub(\"@[^\\s]*\",\"\",s)\n",
    "        s = re.sub(\"#[^\\s]*\",\"\",s)\n",
    "        s = re.sub('[0-9]*[+-:]*[0-9]+','',s)\n",
    "        s = re.sub(\"'s\",\"\",s) \n",
    "        \n",
    "        words = word_tokenize(s)\n",
    "        lemmatizer = WordNetLemmatizer()\n",
    "        words_lemma = []\n",
    "        for word, tag in pos_tag(words):\n",
    "            if tag.startswith(\"NN\"):\n",
    "                words_lemma.append(lemmatizer.lemmatize(word, pos='n'))\n",
    "            elif tag.startswith('VB'):\n",
    "                words_lemma.append(lemmatizer.lemmatize(word, pos='v'))\n",
    "            elif tag.startswith('JJ'):\n",
    "                words_lemma.append(lemmatizer.lemmatize(word, pos='a'))\n",
    "            elif tag.startswith('R'):\n",
    "                words_lemma.append(lemmatizer.lemmatize(word, pos='r'))    \n",
    "            else:\n",
    "                words_lemma.append(word)\n",
    "\n",
    "        return (\" \".join(words_lemma))\n",
    "\n",
    "        return s"
   ]
  },
  {
   "cell_type": "code",
   "execution_count": 8,
   "metadata": {},
   "outputs": [
    {
     "data": {
      "text/html": [
       "<div>\n",
       "<style scoped>\n",
       "    .dataframe tbody tr th:only-of-type {\n",
       "        vertical-align: middle;\n",
       "    }\n",
       "\n",
       "    .dataframe tbody tr th {\n",
       "        vertical-align: top;\n",
       "    }\n",
       "\n",
       "    .dataframe thead th {\n",
       "        text-align: right;\n",
       "    }\n",
       "</style>\n",
       "<table border=\"1\" class=\"dataframe\">\n",
       "  <thead>\n",
       "    <tr style=\"text-align: right;\">\n",
       "      <th></th>\n",
       "      <th>review_id</th>\n",
       "      <th>user_id</th>\n",
       "      <th>business_id</th>\n",
       "      <th>stars</th>\n",
       "      <th>useful</th>\n",
       "      <th>funny</th>\n",
       "      <th>cool</th>\n",
       "      <th>text</th>\n",
       "      <th>date</th>\n",
       "      <th>clean_text</th>\n",
       "    </tr>\n",
       "  </thead>\n",
       "  <tbody>\n",
       "    <tr>\n",
       "      <th>1943839</th>\n",
       "      <td>es0a4sXwm4TsboLAs4Gsdg</td>\n",
       "      <td>ZVIKw2x0EZqCyQF7mGt1mA</td>\n",
       "      <td>-sAr-LA9TsIdl37UjwBlvg</td>\n",
       "      <td>1</td>\n",
       "      <td>4</td>\n",
       "      <td>0</td>\n",
       "      <td>0</td>\n",
       "      <td>Dump. Place smelled like smoke, the A/C didn't...</td>\n",
       "      <td>2015-10-14 04:37:06</td>\n",
       "      <td>dump place smell like smoke the ac do not work...</td>\n",
       "    </tr>\n",
       "    <tr>\n",
       "      <th>6785961</th>\n",
       "      <td>jJbg_d5NrhxJNEyldFfqog</td>\n",
       "      <td>5A_sSWQHxmYVNCmhVLDTag</td>\n",
       "      <td>L2c-qKZWumCmOCR-dqBLrg</td>\n",
       "      <td>4</td>\n",
       "      <td>0</td>\n",
       "      <td>0</td>\n",
       "      <td>0</td>\n",
       "      <td>Been here once - its located in Downtown Champ...</td>\n",
       "      <td>2018-03-20 03:12:57</td>\n",
       "      <td>be here once its locate in downtown champaign ...</td>\n",
       "    </tr>\n",
       "    <tr>\n",
       "      <th>3928982</th>\n",
       "      <td>OpF6-RXhpoZ5W9IFRCWdoQ</td>\n",
       "      <td>maEpH67QwQDr8WbV-OeQfA</td>\n",
       "      <td>d4P7boUqiA2pR59jOlzYLA</td>\n",
       "      <td>3</td>\n",
       "      <td>0</td>\n",
       "      <td>0</td>\n",
       "      <td>0</td>\n",
       "      <td>Plenty of food options here. If you're not hea...</td>\n",
       "      <td>2019-03-11 12:06:58</td>\n",
       "      <td>plenty of food option here if you be not head ...</td>\n",
       "    </tr>\n",
       "    <tr>\n",
       "      <th>7976771</th>\n",
       "      <td>IB-K_EZYRp38idzxbqvT_Q</td>\n",
       "      <td>QJTC5x9yHycwvZwmYdR4IQ</td>\n",
       "      <td>ZGgUJmpRbh2VXftRhQmUSA</td>\n",
       "      <td>5</td>\n",
       "      <td>2</td>\n",
       "      <td>0</td>\n",
       "      <td>1</td>\n",
       "      <td>Been coming here ever since I moved into the n...</td>\n",
       "      <td>2018-03-12 10:35:01</td>\n",
       "      <td>be come here ever since i move into the neighb...</td>\n",
       "    </tr>\n",
       "    <tr>\n",
       "      <th>1704036</th>\n",
       "      <td>HNV8Zo7hTvtsg1DdSORfWQ</td>\n",
       "      <td>698T9yypM-lneS0YBZHMzg</td>\n",
       "      <td>bRyi5lULMcJoexsg-v498w</td>\n",
       "      <td>4</td>\n",
       "      <td>3</td>\n",
       "      <td>3</td>\n",
       "      <td>3</td>\n",
       "      <td>This PostNet is a local favorite in my communi...</td>\n",
       "      <td>2017-08-09 14:35:48</td>\n",
       "      <td>this postnet be a local favorite in my communi...</td>\n",
       "    </tr>\n",
       "  </tbody>\n",
       "</table>\n",
       "</div>"
      ],
      "text/plain": [
       "                      review_id                 user_id  \\\n",
       "1943839  es0a4sXwm4TsboLAs4Gsdg  ZVIKw2x0EZqCyQF7mGt1mA   \n",
       "6785961  jJbg_d5NrhxJNEyldFfqog  5A_sSWQHxmYVNCmhVLDTag   \n",
       "3928982  OpF6-RXhpoZ5W9IFRCWdoQ  maEpH67QwQDr8WbV-OeQfA   \n",
       "7976771  IB-K_EZYRp38idzxbqvT_Q  QJTC5x9yHycwvZwmYdR4IQ   \n",
       "1704036  HNV8Zo7hTvtsg1DdSORfWQ  698T9yypM-lneS0YBZHMzg   \n",
       "\n",
       "                    business_id  stars  useful  funny  cool  \\\n",
       "1943839  -sAr-LA9TsIdl37UjwBlvg      1       4      0     0   \n",
       "6785961  L2c-qKZWumCmOCR-dqBLrg      4       0      0     0   \n",
       "3928982  d4P7boUqiA2pR59jOlzYLA      3       0      0     0   \n",
       "7976771  ZGgUJmpRbh2VXftRhQmUSA      5       2      0     1   \n",
       "1704036  bRyi5lULMcJoexsg-v498w      4       3      3     3   \n",
       "\n",
       "                                                      text  \\\n",
       "1943839  Dump. Place smelled like smoke, the A/C didn't...   \n",
       "6785961  Been here once - its located in Downtown Champ...   \n",
       "3928982  Plenty of food options here. If you're not hea...   \n",
       "7976771  Been coming here ever since I moved into the n...   \n",
       "1704036  This PostNet is a local favorite in my communi...   \n",
       "\n",
       "                       date                                         clean_text  \n",
       "1943839 2015-10-14 04:37:06  dump place smell like smoke the ac do not work...  \n",
       "6785961 2018-03-20 03:12:57  be here once its locate in downtown champaign ...  \n",
       "3928982 2019-03-11 12:06:58  plenty of food option here if you be not head ...  \n",
       "7976771 2018-03-12 10:35:01  be come here ever since i move into the neighb...  \n",
       "1704036 2017-08-09 14:35:48  this postnet be a local favorite in my communi...  "
      ]
     },
     "execution_count": 8,
     "metadata": {},
     "output_type": "execute_result"
    }
   ],
   "source": [
    "review_df['clean_text'] = review_df.text.map(lambda x: text_cleaner(x))\n",
    "review_df.head()"
   ]
  },
  {
   "cell_type": "code",
   "execution_count": 9,
   "metadata": {},
   "outputs": [],
   "source": [
    "def generate_sentiment(stars):\n",
    "    stars = int(stars)\n",
    "    if stars <= 2:\n",
    "        return 0\n",
    "    elif stars == 3:\n",
    "        return 1\n",
    "    else: \n",
    "        return 2"
   ]
  },
  {
   "cell_type": "code",
   "execution_count": 10,
   "metadata": {},
   "outputs": [
    {
     "data": {
      "text/html": [
       "<div>\n",
       "<style scoped>\n",
       "    .dataframe tbody tr th:only-of-type {\n",
       "        vertical-align: middle;\n",
       "    }\n",
       "\n",
       "    .dataframe tbody tr th {\n",
       "        vertical-align: top;\n",
       "    }\n",
       "\n",
       "    .dataframe thead th {\n",
       "        text-align: right;\n",
       "    }\n",
       "</style>\n",
       "<table border=\"1\" class=\"dataframe\">\n",
       "  <thead>\n",
       "    <tr style=\"text-align: right;\">\n",
       "      <th></th>\n",
       "      <th>review_id</th>\n",
       "      <th>user_id</th>\n",
       "      <th>business_id</th>\n",
       "      <th>stars</th>\n",
       "      <th>useful</th>\n",
       "      <th>funny</th>\n",
       "      <th>cool</th>\n",
       "      <th>text</th>\n",
       "      <th>date</th>\n",
       "      <th>clean_text</th>\n",
       "      <th>sentiment</th>\n",
       "    </tr>\n",
       "  </thead>\n",
       "  <tbody>\n",
       "    <tr>\n",
       "      <th>1943839</th>\n",
       "      <td>es0a4sXwm4TsboLAs4Gsdg</td>\n",
       "      <td>ZVIKw2x0EZqCyQF7mGt1mA</td>\n",
       "      <td>-sAr-LA9TsIdl37UjwBlvg</td>\n",
       "      <td>1</td>\n",
       "      <td>4</td>\n",
       "      <td>0</td>\n",
       "      <td>0</td>\n",
       "      <td>Dump. Place smelled like smoke, the A/C didn't...</td>\n",
       "      <td>2015-10-14 04:37:06</td>\n",
       "      <td>dump place smell like smoke the ac do not work...</td>\n",
       "      <td>0</td>\n",
       "    </tr>\n",
       "    <tr>\n",
       "      <th>6785961</th>\n",
       "      <td>jJbg_d5NrhxJNEyldFfqog</td>\n",
       "      <td>5A_sSWQHxmYVNCmhVLDTag</td>\n",
       "      <td>L2c-qKZWumCmOCR-dqBLrg</td>\n",
       "      <td>4</td>\n",
       "      <td>0</td>\n",
       "      <td>0</td>\n",
       "      <td>0</td>\n",
       "      <td>Been here once - its located in Downtown Champ...</td>\n",
       "      <td>2018-03-20 03:12:57</td>\n",
       "      <td>be here once its locate in downtown champaign ...</td>\n",
       "      <td>2</td>\n",
       "    </tr>\n",
       "    <tr>\n",
       "      <th>3928982</th>\n",
       "      <td>OpF6-RXhpoZ5W9IFRCWdoQ</td>\n",
       "      <td>maEpH67QwQDr8WbV-OeQfA</td>\n",
       "      <td>d4P7boUqiA2pR59jOlzYLA</td>\n",
       "      <td>3</td>\n",
       "      <td>0</td>\n",
       "      <td>0</td>\n",
       "      <td>0</td>\n",
       "      <td>Plenty of food options here. If you're not hea...</td>\n",
       "      <td>2019-03-11 12:06:58</td>\n",
       "      <td>plenty of food option here if you be not head ...</td>\n",
       "      <td>1</td>\n",
       "    </tr>\n",
       "    <tr>\n",
       "      <th>7976771</th>\n",
       "      <td>IB-K_EZYRp38idzxbqvT_Q</td>\n",
       "      <td>QJTC5x9yHycwvZwmYdR4IQ</td>\n",
       "      <td>ZGgUJmpRbh2VXftRhQmUSA</td>\n",
       "      <td>5</td>\n",
       "      <td>2</td>\n",
       "      <td>0</td>\n",
       "      <td>1</td>\n",
       "      <td>Been coming here ever since I moved into the n...</td>\n",
       "      <td>2018-03-12 10:35:01</td>\n",
       "      <td>be come here ever since i move into the neighb...</td>\n",
       "      <td>2</td>\n",
       "    </tr>\n",
       "    <tr>\n",
       "      <th>1704036</th>\n",
       "      <td>HNV8Zo7hTvtsg1DdSORfWQ</td>\n",
       "      <td>698T9yypM-lneS0YBZHMzg</td>\n",
       "      <td>bRyi5lULMcJoexsg-v498w</td>\n",
       "      <td>4</td>\n",
       "      <td>3</td>\n",
       "      <td>3</td>\n",
       "      <td>3</td>\n",
       "      <td>This PostNet is a local favorite in my communi...</td>\n",
       "      <td>2017-08-09 14:35:48</td>\n",
       "      <td>this postnet be a local favorite in my communi...</td>\n",
       "      <td>2</td>\n",
       "    </tr>\n",
       "  </tbody>\n",
       "</table>\n",
       "</div>"
      ],
      "text/plain": [
       "                      review_id                 user_id  \\\n",
       "1943839  es0a4sXwm4TsboLAs4Gsdg  ZVIKw2x0EZqCyQF7mGt1mA   \n",
       "6785961  jJbg_d5NrhxJNEyldFfqog  5A_sSWQHxmYVNCmhVLDTag   \n",
       "3928982  OpF6-RXhpoZ5W9IFRCWdoQ  maEpH67QwQDr8WbV-OeQfA   \n",
       "7976771  IB-K_EZYRp38idzxbqvT_Q  QJTC5x9yHycwvZwmYdR4IQ   \n",
       "1704036  HNV8Zo7hTvtsg1DdSORfWQ  698T9yypM-lneS0YBZHMzg   \n",
       "\n",
       "                    business_id  stars  useful  funny  cool  \\\n",
       "1943839  -sAr-LA9TsIdl37UjwBlvg      1       4      0     0   \n",
       "6785961  L2c-qKZWumCmOCR-dqBLrg      4       0      0     0   \n",
       "3928982  d4P7boUqiA2pR59jOlzYLA      3       0      0     0   \n",
       "7976771  ZGgUJmpRbh2VXftRhQmUSA      5       2      0     1   \n",
       "1704036  bRyi5lULMcJoexsg-v498w      4       3      3     3   \n",
       "\n",
       "                                                      text  \\\n",
       "1943839  Dump. Place smelled like smoke, the A/C didn't...   \n",
       "6785961  Been here once - its located in Downtown Champ...   \n",
       "3928982  Plenty of food options here. If you're not hea...   \n",
       "7976771  Been coming here ever since I moved into the n...   \n",
       "1704036  This PostNet is a local favorite in my communi...   \n",
       "\n",
       "                       date  \\\n",
       "1943839 2015-10-14 04:37:06   \n",
       "6785961 2018-03-20 03:12:57   \n",
       "3928982 2019-03-11 12:06:58   \n",
       "7976771 2018-03-12 10:35:01   \n",
       "1704036 2017-08-09 14:35:48   \n",
       "\n",
       "                                                clean_text  sentiment  \n",
       "1943839  dump place smell like smoke the ac do not work...          0  \n",
       "6785961  be here once its locate in downtown champaign ...          2  \n",
       "3928982  plenty of food option here if you be not head ...          1  \n",
       "7976771  be come here ever since i move into the neighb...          2  \n",
       "1704036  this postnet be a local favorite in my communi...          2  "
      ]
     },
     "execution_count": 10,
     "metadata": {},
     "output_type": "execute_result"
    }
   ],
   "source": [
    "review_df['sentiment'] = review_df.stars.apply(generate_sentiment)\n",
    "review_df.head()"
   ]
  },
  {
   "cell_type": "code",
   "execution_count": 11,
   "metadata": {},
   "outputs": [
    {
     "data": {
      "text/html": [
       "<div>\n",
       "<style scoped>\n",
       "    .dataframe tbody tr th:only-of-type {\n",
       "        vertical-align: middle;\n",
       "    }\n",
       "\n",
       "    .dataframe tbody tr th {\n",
       "        vertical-align: top;\n",
       "    }\n",
       "\n",
       "    .dataframe thead th {\n",
       "        text-align: right;\n",
       "    }\n",
       "</style>\n",
       "<table border=\"1\" class=\"dataframe\">\n",
       "  <thead>\n",
       "    <tr style=\"text-align: right;\">\n",
       "      <th></th>\n",
       "      <th>clean_text</th>\n",
       "      <th>sentiment</th>\n",
       "    </tr>\n",
       "  </thead>\n",
       "  <tbody>\n",
       "    <tr>\n",
       "      <th>1943839</th>\n",
       "      <td>dump place smell like smoke the ac do not work...</td>\n",
       "      <td>0</td>\n",
       "    </tr>\n",
       "    <tr>\n",
       "      <th>6785961</th>\n",
       "      <td>be here once its locate in downtown champaign ...</td>\n",
       "      <td>2</td>\n",
       "    </tr>\n",
       "    <tr>\n",
       "      <th>3928982</th>\n",
       "      <td>plenty of food option here if you be not head ...</td>\n",
       "      <td>1</td>\n",
       "    </tr>\n",
       "    <tr>\n",
       "      <th>7976771</th>\n",
       "      <td>be come here ever since i move into the neighb...</td>\n",
       "      <td>2</td>\n",
       "    </tr>\n",
       "    <tr>\n",
       "      <th>1704036</th>\n",
       "      <td>this postnet be a local favorite in my communi...</td>\n",
       "      <td>2</td>\n",
       "    </tr>\n",
       "  </tbody>\n",
       "</table>\n",
       "</div>"
      ],
      "text/plain": [
       "                                                clean_text  sentiment\n",
       "1943839  dump place smell like smoke the ac do not work...          0\n",
       "6785961  be here once its locate in downtown champaign ...          2\n",
       "3928982  plenty of food option here if you be not head ...          1\n",
       "7976771  be come here ever since i move into the neighb...          2\n",
       "1704036  this postnet be a local favorite in my communi...          2"
      ]
     },
     "execution_count": 11,
     "metadata": {},
     "output_type": "execute_result"
    }
   ],
   "source": [
    "# Picking the only the clean text and target columns\n",
    "final_df = review_df[['clean_text','sentiment']]\n",
    "final_df.head()"
   ]
  },
  {
   "cell_type": "code",
   "execution_count": 12,
   "metadata": {},
   "outputs": [
    {
     "name": "stdout",
     "output_type": "stream",
     "text": [
      "Max length: 990\n"
     ]
    },
    {
     "data": {
      "image/png": "[encoded data removed]",
      "text/plain": [
       "<Figure size 864x576 with 1 Axes>"
      ]
     },
     "metadata": {
      "needs_background": "light"
     },
     "output_type": "display_data"
    }
   ],
   "source": [
    "txtlength_df = pd.DataFrame({'txt_length': final_df.clean_text.apply(lambda x: len(x.split()))})\n",
    "max_length = max(txtlength_df.txt_length)\n",
    "print('Max length: ' + str(max_length))\n",
    "plt.figure(figsize=(12,8))\n",
    "sns.distplot(txtlength_df)\n",
    "plt.xlim([0, max_length]);\n",
    "plt.xlabel('Word count')\n",
    "plt.show()"
   ]
  },
  {
   "cell_type": "markdown",
   "metadata": {},
   "source": [
    "## Load and Preprocess the Data"
   ]
  },
  {
   "cell_type": "code",
   "execution_count": 13,
   "metadata": {},
   "outputs": [
    {
     "name": "stdout",
     "output_type": "stream",
     "text": [
      "preprocessing train...\n",
      "language: en\n"
     ]
    },
    {
     "data": {
      "text/html": [
       "done."
      ],
      "text/plain": [
       "<IPython.core.display.HTML object>"
      ]
     },
     "metadata": {},
     "output_type": "display_data"
    },
    {
     "name": "stdout",
     "output_type": "stream",
     "text": [
      "Is Multi-Label? False\n",
      "preprocessing test...\n",
      "language: en\n"
     ]
    },
    {
     "data": {
      "text/html": [
       "done."
      ],
      "text/plain": [
       "<IPython.core.display.HTML object>"
      ]
     },
     "metadata": {},
     "output_type": "display_data"
    }
   ],
   "source": [
    "(x_train, y_train), (x_test, y_test), preproc = text.texts_from_df(train_df=final_df,\n",
    "                                                                   text_column='clean_text',\n",
    "                                                                   label_columns='sentiment',\n",
    "                                                                   maxlen=512,\n",
    "                                                                   val_pct=0.2,\n",
    "                                                                   preprocess_mode='bert')"
   ]
  },
  {
   "cell_type": "code",
   "execution_count": 14,
   "metadata": {},
   "outputs": [
    {
     "data": {
      "image/png": "[encoded data removed]",
      "text/plain": [
       "<Figure size 432x288 with 1 Axes>"
      ]
     },
     "metadata": {
      "needs_background": "light"
     },
     "output_type": "display_data"
    }
   ],
   "source": [
    "# Checking class imbalance\n",
    "class_names = ['negative', 'neutral', 'positive']\n",
    "\n",
    "plt.figure(figsize=(6,4))\n",
    "ax = sns.countplot(final_df.sentiment)\n",
    "plt.xlabel('Review Sentiment')\n",
    "plt.ylabel('Count')\n",
    "ax.set_xticklabels(class_names)\n",
    "plt.show()"
   ]
  },
  {
   "cell_type": "code",
   "execution_count": 15,
   "metadata": {},
   "outputs": [],
   "source": [
    "# Get class weights to give higher weight to minority class and lower weight to majority class.\n",
    "class_weights = class_weight.compute_class_weight('balanced', \n",
    "                                                  np.unique(np.argmax(y_train, 1)), \n",
    "                                                  np.argmax(y_train, 1))"
   ]
  },
  {
   "cell_type": "markdown",
   "metadata": {},
   "source": [
    "## Load the BERT Model and Instantiate a Learner object"
   ]
  },
  {
   "cell_type": "code",
   "execution_count": 16,
   "metadata": {
    "scrolled": true
   },
   "outputs": [
    {
     "name": "stdout",
     "output_type": "stream",
     "text": [
      "Is Multi-Label? False\n",
      "maxlen is 512\n",
      "done.\n"
     ]
    }
   ],
   "source": [
    "model = text.text_classifier(name='bert', train_data=(x_train,y_train), preproc=preproc)"
   ]
  },
  {
   "cell_type": "code",
   "execution_count": 18,
   "metadata": {},
   "outputs": [],
   "source": [
    "learner = ktrain.get_learner(model=model, \n",
    "                             train_data=(x_train,y_train),\n",
    "                             val_data=(x_test, y_test),\n",
    "                             workers=32, \n",
    "                             use_multiprocessing=True,\n",
    "                             batch_size=6)"
   ]
  },
  {
   "cell_type": "code",
   "execution_count": null,
   "metadata": {},
   "outputs": [],
   "source": [
    "# learner.lr_find()\n",
    "# learner.lr_plot()"
   ]
  },
  {
   "cell_type": "markdown",
   "metadata": {},
   "source": [
    "## Train the Model"
   ]
  },
  {
   "cell_type": "code",
   "execution_count": 19,
   "metadata": {
    "scrolled": true
   },
   "outputs": [
    {
     "name": "stdout",
     "output_type": "stream",
     "text": [
      "\n",
      "\n",
      "begin training using onecycle policy with max lr of 2e-05...\n",
      "Train on 4000 samples, validate on 1000 samples\n",
      "Epoch 1/3\n",
      "4000/4000 [==============================] - 7353s 2s/sample - loss: 0.5113 - accuracy: 0.8070 - val_loss: 0.4878 - val_accuracy: 0.8450\n",
      "Epoch 2/3\n",
      "4000/4000 [==============================] - 7328s 2s/sample - loss: 0.3304 - accuracy: 0.8717 - val_loss: 0.3585 - val_accuracy: 0.8570\n",
      "Epoch 3/3\n",
      "4000/4000 [==============================] - 7339s 2s/sample - loss: 0.1645 - accuracy: 0.9390 - val_loss: 0.4202 - val_accuracy: 0.8410\n"
     ]
    },
    {
     "data": {
      "text/plain": [
       "<tensorflow.python.keras.callbacks.History at 0x7f4b0ddd2a58>"
      ]
     },
     "execution_count": 19,
     "metadata": {},
     "output_type": "execute_result"
    }
   ],
   "source": [
    "learner.fit_onecycle(lr=2e-5, epochs=3, class_weight=class_weights)"
   ]
  },
  {
   "cell_type": "code",
   "execution_count": 20,
   "metadata": {},
   "outputs": [
    {
     "name": "stdout",
     "output_type": "stream",
     "text": [
      "              precision    recall  f1-score   support\n",
      "\n",
      "    negative       0.89      0.80      0.85       256\n",
      "     neutral       0.39      0.48      0.43       115\n",
      "    positive       0.93      0.92      0.92       629\n",
      "\n",
      "    accuracy                           0.84      1000\n",
      "   macro avg       0.73      0.74      0.73      1000\n",
      "weighted avg       0.85      0.84      0.85      1000\n",
      "\n"
     ]
    },
    {
     "data": {
      "text/plain": [
       "array([[206,  43,   7],\n",
       "       [ 20,  55,  40],\n",
       "       [  5,  44, 580]])"
      ]
     },
     "execution_count": 20,
     "metadata": {},
     "output_type": "execute_result"
    }
   ],
   "source": [
    "# Evaluation\n",
    "learner.validate(val_data=(x_test, y_test), class_names=class_names)"
   ]
  },
  {
   "cell_type": "code",
   "execution_count": 21,
   "metadata": {},
   "outputs": [],
   "source": [
    "# Get the Predictor object \n",
    "predictor = ktrain.get_predictor(learner.model, preproc)"
   ]
  },
  {
   "cell_type": "markdown",
   "metadata": {},
   "source": [
    "## Predicting on Raw Text"
   ]
  },
  {
   "cell_type": "code",
   "execution_count": 24,
   "metadata": {},
   "outputs": [],
   "source": [
    "def predict(predictor, text):\n",
    "    classes = ['negative', 'neutral', 'positive']\n",
    "    pred = predictor.predict_proba(text)\n",
    "    pred_df = {classes[i]: pred[i] for i in range(len(classes))}\n",
    "    pred_df = pd.DataFrame(pred_df.items(), columns=['sentiment', 'probability'])\n",
    "    \n",
    "    plt.figure(figsize=(12,2))\n",
    "    sns.barplot(x='probability', y='sentiment', data=pred_df, orient='h')\n",
    "    plt.ylabel('sentiment')\n",
    "    plt.xlabel('probability')\n",
    "    plt.xlim([0, 1])\n",
    "    plt.show()"
   ]
  },
  {
   "cell_type": "code",
   "execution_count": 28,
   "metadata": {},
   "outputs": [
    {
     "data": {
      "text/html": [],
      "text/plain": [
       "<IPython.core.display.HTML object>"
      ]
     },
     "metadata": {},
     "output_type": "display_data"
    },
    {
     "data": {
      "image/png": "[encoded data removed]",
      "text/plain": [
       "<Figure size 864x144 with 1 Axes>"
      ]
     },
     "metadata": {
      "needs_background": "light"
     },
     "output_type": "display_data"
    }
   ],
   "source": [
    "# text = \"The coffee shop is quiet, probably as quiet as it can be while still being occupied. The staffs are friendly, and the coffee is delicious.\"\n",
    "text = \"The coffee shop is very noisy, average food, quite pricey, and bad management. I would not recommend this coffee shop to anyone.\"\n",
    "\n",
    "predict(predictor, text)"
   ]
  },
  {
   "cell_type": "code",
   "execution_count": null,
   "metadata": {},
   "outputs": [],
   "source": []
  }
 ],
 "metadata": {
  "kernelspec": {
   "display_name": "Python 3",
   "language": "python",
   "name": "python3"
  },
  "language_info": {
   "codemirror_mode": {
    "name": "ipython",
    "version": 3
   },
   "file_extension": ".py",
   "mimetype": "text/x-python",
   "name": "python",
   "nbconvert_exporter": "python",
   "pygments_lexer": "ipython3",
   "version": "3.7.4"
  }
 },
 "nbformat": 4,
 "nbformat_minor": 4
}
